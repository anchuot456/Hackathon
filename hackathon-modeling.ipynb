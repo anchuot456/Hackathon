{
 "cells": [
  {
   "cell_type": "code",
   "execution_count": 1,
   "id": "initial_id",
   "metadata": {
    "collapsed": true,
    "ExecuteTime": {
     "end_time": "2023-10-13T20:16:08.511635400Z",
     "start_time": "2023-10-13T20:16:06.896389900Z"
    }
   },
   "outputs": [],
   "source": [
    "import numpy as np\n",
    "import pandas as pd\n",
    "\n",
    "from sklearn.preprocessing import StandardScaler, OrdinalEncoder\n",
    "from sklearn.linear_model import LinearRegression, Ridge\n",
    "from sklearn.ensemble import RandomForestRegressor\n",
    "import matplotlib.pyplot as plt\n",
    "from sklearn.model_selection import train_test_split\n",
    "from sklearn.metrics import mean_squared_error, mean_absolute_error, mean_squared_log_error\n",
    "from xgboost import XGBRegressor"
   ]
  },
  {
   "cell_type": "code",
   "execution_count": 2,
   "outputs": [],
   "source": [
    "dataset = pd.read_csv(\"data/data_cleaned.csv\").drop(\"Unnamed: 0\", axis=1)"
   ],
   "metadata": {
    "collapsed": false,
    "ExecuteTime": {
     "end_time": "2023-10-13T20:16:08.543297700Z",
     "start_time": "2023-10-13T20:16:08.513832600Z"
    }
   },
   "id": "2192508c09ab7b3c"
  },
  {
   "cell_type": "code",
   "execution_count": 3,
   "outputs": [
    {
     "data": {
      "text/plain": "     DateOfDeparture Departure Arrival  WeeksToDeparture    log_PAX  \\\n0         19/06/2012       ORD     DFW         12.875000  12.331296   \n1         10/09/2012       LAS     DEN         14.285714  10.775182   \n2         05/10/2012       DEN     LAX         10.863636  11.083177   \n3         09/10/2011       ATL     ORD         11.480000  11.169268   \n4         21/02/2012       DEN     SFO         11.450000  11.269364   \n...              ...       ...     ...               ...        ...   \n8897      02/10/2011       DTW     ATL          9.263158  10.427055   \n8898      25/09/2012       DFW     ORD         12.772727  12.201552   \n8899      19/01/2012       SFO     LAS         11.047619  10.508746   \n8900      03/02/2013       ORD     PHL          6.076923  10.174042   \n8901      26/11/2011       DTW     ATL          9.526316   9.202674   \n\n        std_wtd  DateDay  DateMonth  DateYear  \n0      9.812647       19          6      2012  \n1      9.466734       10          9      2012  \n2      9.035883        5         10      2012  \n3      7.990202        9         10      2011  \n4      9.517159       21          2      2012  \n...         ...      ...        ...       ...  \n8897   7.316967        2         10      2011  \n8898  10.641034       25          9      2012  \n8899   7.908705       19          1      2012  \n8900   4.030334        3          2      2013  \n8901   6.167733       26         11      2011  \n\n[8902 rows x 9 columns]",
      "text/html": "<div>\n<style scoped>\n    .dataframe tbody tr th:only-of-type {\n        vertical-align: middle;\n    }\n\n    .dataframe tbody tr th {\n        vertical-align: top;\n    }\n\n    .dataframe thead th {\n        text-align: right;\n    }\n</style>\n<table border=\"1\" class=\"dataframe\">\n  <thead>\n    <tr style=\"text-align: right;\">\n      <th></th>\n      <th>DateOfDeparture</th>\n      <th>Departure</th>\n      <th>Arrival</th>\n      <th>WeeksToDeparture</th>\n      <th>log_PAX</th>\n      <th>std_wtd</th>\n      <th>DateDay</th>\n      <th>DateMonth</th>\n      <th>DateYear</th>\n    </tr>\n  </thead>\n  <tbody>\n    <tr>\n      <th>0</th>\n      <td>19/06/2012</td>\n      <td>ORD</td>\n      <td>DFW</td>\n      <td>12.875000</td>\n      <td>12.331296</td>\n      <td>9.812647</td>\n      <td>19</td>\n      <td>6</td>\n      <td>2012</td>\n    </tr>\n    <tr>\n      <th>1</th>\n      <td>10/09/2012</td>\n      <td>LAS</td>\n      <td>DEN</td>\n      <td>14.285714</td>\n      <td>10.775182</td>\n      <td>9.466734</td>\n      <td>10</td>\n      <td>9</td>\n      <td>2012</td>\n    </tr>\n    <tr>\n      <th>2</th>\n      <td>05/10/2012</td>\n      <td>DEN</td>\n      <td>LAX</td>\n      <td>10.863636</td>\n      <td>11.083177</td>\n      <td>9.035883</td>\n      <td>5</td>\n      <td>10</td>\n      <td>2012</td>\n    </tr>\n    <tr>\n      <th>3</th>\n      <td>09/10/2011</td>\n      <td>ATL</td>\n      <td>ORD</td>\n      <td>11.480000</td>\n      <td>11.169268</td>\n      <td>7.990202</td>\n      <td>9</td>\n      <td>10</td>\n      <td>2011</td>\n    </tr>\n    <tr>\n      <th>4</th>\n      <td>21/02/2012</td>\n      <td>DEN</td>\n      <td>SFO</td>\n      <td>11.450000</td>\n      <td>11.269364</td>\n      <td>9.517159</td>\n      <td>21</td>\n      <td>2</td>\n      <td>2012</td>\n    </tr>\n    <tr>\n      <th>...</th>\n      <td>...</td>\n      <td>...</td>\n      <td>...</td>\n      <td>...</td>\n      <td>...</td>\n      <td>...</td>\n      <td>...</td>\n      <td>...</td>\n      <td>...</td>\n    </tr>\n    <tr>\n      <th>8897</th>\n      <td>02/10/2011</td>\n      <td>DTW</td>\n      <td>ATL</td>\n      <td>9.263158</td>\n      <td>10.427055</td>\n      <td>7.316967</td>\n      <td>2</td>\n      <td>10</td>\n      <td>2011</td>\n    </tr>\n    <tr>\n      <th>8898</th>\n      <td>25/09/2012</td>\n      <td>DFW</td>\n      <td>ORD</td>\n      <td>12.772727</td>\n      <td>12.201552</td>\n      <td>10.641034</td>\n      <td>25</td>\n      <td>9</td>\n      <td>2012</td>\n    </tr>\n    <tr>\n      <th>8899</th>\n      <td>19/01/2012</td>\n      <td>SFO</td>\n      <td>LAS</td>\n      <td>11.047619</td>\n      <td>10.508746</td>\n      <td>7.908705</td>\n      <td>19</td>\n      <td>1</td>\n      <td>2012</td>\n    </tr>\n    <tr>\n      <th>8900</th>\n      <td>03/02/2013</td>\n      <td>ORD</td>\n      <td>PHL</td>\n      <td>6.076923</td>\n      <td>10.174042</td>\n      <td>4.030334</td>\n      <td>3</td>\n      <td>2</td>\n      <td>2013</td>\n    </tr>\n    <tr>\n      <th>8901</th>\n      <td>26/11/2011</td>\n      <td>DTW</td>\n      <td>ATL</td>\n      <td>9.526316</td>\n      <td>9.202674</td>\n      <td>6.167733</td>\n      <td>26</td>\n      <td>11</td>\n      <td>2011</td>\n    </tr>\n  </tbody>\n</table>\n<p>8902 rows × 9 columns</p>\n</div>"
     },
     "execution_count": 3,
     "metadata": {},
     "output_type": "execute_result"
    }
   ],
   "source": [
    "dataset"
   ],
   "metadata": {
    "collapsed": false,
    "ExecuteTime": {
     "end_time": "2023-10-13T20:16:08.558311700Z",
     "start_time": "2023-10-13T20:16:08.542297400Z"
    }
   },
   "id": "b3883336af225868"
  },
  {
   "cell_type": "code",
   "execution_count": 4,
   "outputs": [
    {
     "name": "stderr",
     "output_type": "stream",
     "text": [
      "C:\\Users\\ADMIN\\AppData\\Local\\Temp\\ipykernel_28928\\2629589080.py:1: FutureWarning: The default value of numeric_only in DataFrame.corr is deprecated. In a future version, it will default to False. Select only valid columns or specify the value of numeric_only to silence this warning.\n",
      "  dataset.corr()\n"
     ]
    },
    {
     "data": {
      "text/plain": "                  WeeksToDeparture   log_PAX   std_wtd   DateDay  DateMonth  \\\nWeeksToDeparture          1.000000  0.163453  0.874999  0.032103   0.161949   \nlog_PAX                   0.163453  1.000000  0.109231  0.010484   0.005880   \nstd_wtd                   0.874999  0.109231  1.000000  0.010229   0.082489   \nDateDay                   0.032103  0.010484  0.010229  1.000000   0.017332   \nDateMonth                 0.161949  0.005880  0.082489  0.017332   1.000000   \nDateYear                 -0.065728 -0.083499  0.041543 -0.043961  -0.653862   \n\n                  DateYear  \nWeeksToDeparture -0.065728  \nlog_PAX          -0.083499  \nstd_wtd           0.041543  \nDateDay          -0.043961  \nDateMonth        -0.653862  \nDateYear          1.000000  ",
      "text/html": "<div>\n<style scoped>\n    .dataframe tbody tr th:only-of-type {\n        vertical-align: middle;\n    }\n\n    .dataframe tbody tr th {\n        vertical-align: top;\n    }\n\n    .dataframe thead th {\n        text-align: right;\n    }\n</style>\n<table border=\"1\" class=\"dataframe\">\n  <thead>\n    <tr style=\"text-align: right;\">\n      <th></th>\n      <th>WeeksToDeparture</th>\n      <th>log_PAX</th>\n      <th>std_wtd</th>\n      <th>DateDay</th>\n      <th>DateMonth</th>\n      <th>DateYear</th>\n    </tr>\n  </thead>\n  <tbody>\n    <tr>\n      <th>WeeksToDeparture</th>\n      <td>1.000000</td>\n      <td>0.163453</td>\n      <td>0.874999</td>\n      <td>0.032103</td>\n      <td>0.161949</td>\n      <td>-0.065728</td>\n    </tr>\n    <tr>\n      <th>log_PAX</th>\n      <td>0.163453</td>\n      <td>1.000000</td>\n      <td>0.109231</td>\n      <td>0.010484</td>\n      <td>0.005880</td>\n      <td>-0.083499</td>\n    </tr>\n    <tr>\n      <th>std_wtd</th>\n      <td>0.874999</td>\n      <td>0.109231</td>\n      <td>1.000000</td>\n      <td>0.010229</td>\n      <td>0.082489</td>\n      <td>0.041543</td>\n    </tr>\n    <tr>\n      <th>DateDay</th>\n      <td>0.032103</td>\n      <td>0.010484</td>\n      <td>0.010229</td>\n      <td>1.000000</td>\n      <td>0.017332</td>\n      <td>-0.043961</td>\n    </tr>\n    <tr>\n      <th>DateMonth</th>\n      <td>0.161949</td>\n      <td>0.005880</td>\n      <td>0.082489</td>\n      <td>0.017332</td>\n      <td>1.000000</td>\n      <td>-0.653862</td>\n    </tr>\n    <tr>\n      <th>DateYear</th>\n      <td>-0.065728</td>\n      <td>-0.083499</td>\n      <td>0.041543</td>\n      <td>-0.043961</td>\n      <td>-0.653862</td>\n      <td>1.000000</td>\n    </tr>\n  </tbody>\n</table>\n</div>"
     },
     "execution_count": 4,
     "metadata": {},
     "output_type": "execute_result"
    }
   ],
   "source": [
    "dataset.corr()"
   ],
   "metadata": {
    "collapsed": false,
    "ExecuteTime": {
     "end_time": "2023-10-13T20:16:08.592840600Z",
     "start_time": "2023-10-13T20:16:08.558311700Z"
    }
   },
   "id": "816a5b7945ef7b3a"
  },
  {
   "cell_type": "code",
   "execution_count": 5,
   "outputs": [
    {
     "data": {
      "text/plain": "DateOfDeparture     0\nDeparture           0\nArrival             0\nWeeksToDeparture    0\nlog_PAX             0\nstd_wtd             0\nDateDay             0\nDateMonth           0\nDateYear            0\ndtype: int64"
     },
     "execution_count": 5,
     "metadata": {},
     "output_type": "execute_result"
    }
   ],
   "source": [
    "dataset.isna().sum()"
   ],
   "metadata": {
    "collapsed": false,
    "ExecuteTime": {
     "end_time": "2023-10-13T20:16:08.680238Z",
     "start_time": "2023-10-13T20:16:08.575839100Z"
    }
   },
   "id": "7e75a3614a75e6bc"
  },
  {
   "cell_type": "code",
   "execution_count": 6,
   "outputs": [
    {
     "data": {
      "text/plain": "Departure    20\ndtype: int64"
     },
     "execution_count": 6,
     "metadata": {},
     "output_type": "execute_result"
    }
   ],
   "source": [
    "dataset[[\"Departure\"]].nunique()"
   ],
   "metadata": {
    "collapsed": false,
    "ExecuteTime": {
     "end_time": "2023-10-13T20:16:08.704754800Z",
     "start_time": "2023-10-13T20:16:08.590841200Z"
    }
   },
   "id": "696fad58081e3cfd"
  },
  {
   "cell_type": "code",
   "execution_count": 7,
   "outputs": [
    {
     "data": {
      "text/plain": "Arrival    20\ndtype: int64"
     },
     "execution_count": 7,
     "metadata": {},
     "output_type": "execute_result"
    }
   ],
   "source": [
    "dataset[[\"Arrival\"]].nunique()"
   ],
   "metadata": {
    "collapsed": false,
    "ExecuteTime": {
     "end_time": "2023-10-13T20:16:08.744075600Z",
     "start_time": "2023-10-13T20:16:08.608350200Z"
    }
   },
   "id": "de333c9252fc68cb"
  },
  {
   "cell_type": "code",
   "execution_count": 8,
   "outputs": [],
   "source": [
    "binary_encoder = OrdinalEncoder()\n",
    "dataset[[\"Departure\"]] = binary_encoder.fit_transform(dataset[[\"Departure\"]])\n",
    "dataset[[\"Arrival\"]] = binary_encoder.fit_transform(dataset[[\"Arrival\"]])"
   ],
   "metadata": {
    "collapsed": false,
    "ExecuteTime": {
     "end_time": "2023-10-13T20:16:08.744075600Z",
     "start_time": "2023-10-13T20:16:08.621557900Z"
    }
   },
   "id": "5d2af71d05976164"
  },
  {
   "cell_type": "code",
   "execution_count": 9,
   "outputs": [],
   "source": [
    "scaler = StandardScaler()\n",
    "dataset[[\"WeeksToDeparture\",\"std_wtd\"]] = scaler.fit_transform(dataset[[\"WeeksToDeparture\",\"std_wtd\"]])"
   ],
   "metadata": {
    "collapsed": false,
    "ExecuteTime": {
     "end_time": "2023-10-13T20:16:08.766286500Z",
     "start_time": "2023-10-13T20:16:08.637118100Z"
    }
   },
   "id": "c83d1eb3dd5158d1"
  },
  {
   "cell_type": "code",
   "execution_count": 10,
   "outputs": [
    {
     "name": "stderr",
     "output_type": "stream",
     "text": [
      "C:\\Users\\ADMIN\\AppData\\Local\\Temp\\ipykernel_28928\\2112503184.py:1: FutureWarning: The default value of numeric_only in DataFrame.corr is deprecated. In a future version, it will default to False. Select only valid columns or specify the value of numeric_only to silence this warning.\n",
      "  dataset.corr().abs()[[\"log_PAX\"]]\n"
     ]
    },
    {
     "data": {
      "text/plain": "                   log_PAX\nDeparture         0.084690\nArrival           0.084624\nWeeksToDeparture  0.163453\nlog_PAX           1.000000\nstd_wtd           0.109231\nDateDay           0.010484\nDateMonth         0.005880\nDateYear          0.083499",
      "text/html": "<div>\n<style scoped>\n    .dataframe tbody tr th:only-of-type {\n        vertical-align: middle;\n    }\n\n    .dataframe tbody tr th {\n        vertical-align: top;\n    }\n\n    .dataframe thead th {\n        text-align: right;\n    }\n</style>\n<table border=\"1\" class=\"dataframe\">\n  <thead>\n    <tr style=\"text-align: right;\">\n      <th></th>\n      <th>log_PAX</th>\n    </tr>\n  </thead>\n  <tbody>\n    <tr>\n      <th>Departure</th>\n      <td>0.084690</td>\n    </tr>\n    <tr>\n      <th>Arrival</th>\n      <td>0.084624</td>\n    </tr>\n    <tr>\n      <th>WeeksToDeparture</th>\n      <td>0.163453</td>\n    </tr>\n    <tr>\n      <th>log_PAX</th>\n      <td>1.000000</td>\n    </tr>\n    <tr>\n      <th>std_wtd</th>\n      <td>0.109231</td>\n    </tr>\n    <tr>\n      <th>DateDay</th>\n      <td>0.010484</td>\n    </tr>\n    <tr>\n      <th>DateMonth</th>\n      <td>0.005880</td>\n    </tr>\n    <tr>\n      <th>DateYear</th>\n      <td>0.083499</td>\n    </tr>\n  </tbody>\n</table>\n</div>"
     },
     "execution_count": 10,
     "metadata": {},
     "output_type": "execute_result"
    }
   ],
   "source": [
    "dataset.corr().abs()[[\"log_PAX\"]]"
   ],
   "metadata": {
    "collapsed": false,
    "ExecuteTime": {
     "end_time": "2023-10-13T20:16:08.775288500Z",
     "start_time": "2023-10-13T20:16:08.654385900Z"
    }
   },
   "id": "d550311499de69fe"
  },
  {
   "cell_type": "code",
   "execution_count": 11,
   "outputs": [],
   "source": [
    "features = dataset.drop([\"DateOfDeparture\",\"log_PAX\"], axis=1).to_numpy()\n",
    "target = dataset[[\"log_PAX\"]].to_numpy()"
   ],
   "metadata": {
    "collapsed": false,
    "ExecuteTime": {
     "end_time": "2023-10-13T20:16:08.776286400Z",
     "start_time": "2023-10-13T20:16:08.670258500Z"
    }
   },
   "id": "99d578cb10149827"
  },
  {
   "cell_type": "code",
   "execution_count": 12,
   "outputs": [
    {
     "data": {
      "text/plain": "array([[ 1.50000000e+01,  4.00000000e+00,  5.12572586e-01, ...,\n         1.90000000e+01,  6.00000000e+00,  2.01200000e+03],\n       [ 9.00000000e+00,  3.00000000e+00,  1.01875226e+00, ...,\n         1.00000000e+01,  9.00000000e+00,  2.01200000e+03],\n       [ 3.00000000e+00,  1.00000000e+01, -2.09126629e-01, ...,\n         5.00000000e+00,  1.00000000e+01,  2.01200000e+03],\n       ...,\n       [ 1.90000000e+01,  9.00000000e+00, -1.43111633e-01, ...,\n         1.90000000e+01,  1.00000000e+00,  2.01200000e+03],\n       [ 1.50000000e+01,  1.60000000e+01, -1.92665157e+00, ...,\n         3.00000000e+00,  2.00000000e+00,  2.01300000e+03],\n       [ 5.00000000e+00,  0.00000000e+00, -6.88971838e-01, ...,\n         2.60000000e+01,  1.10000000e+01,  2.01100000e+03]])"
     },
     "execution_count": 12,
     "metadata": {},
     "output_type": "execute_result"
    }
   ],
   "source": [
    "features"
   ],
   "metadata": {
    "collapsed": false,
    "ExecuteTime": {
     "end_time": "2023-10-13T20:16:08.776286400Z",
     "start_time": "2023-10-13T20:16:08.683303Z"
    }
   },
   "id": "9cee4a2c6dd511e5"
  },
  {
   "cell_type": "code",
   "execution_count": 13,
   "outputs": [
    {
     "data": {
      "text/plain": "array([[12.33129622],\n       [10.77518151],\n       [11.08317675],\n       ...,\n       [10.508746  ],\n       [10.17404162],\n       [ 9.20267425]])"
     },
     "execution_count": 13,
     "metadata": {},
     "output_type": "execute_result"
    }
   ],
   "source": [
    "target"
   ],
   "metadata": {
    "collapsed": false,
    "ExecuteTime": {
     "end_time": "2023-10-13T20:16:08.778286300Z",
     "start_time": "2023-10-13T20:16:08.699684800Z"
    }
   },
   "id": "cd3a74262b08a612"
  },
  {
   "cell_type": "code",
   "execution_count": 14,
   "outputs": [],
   "source": [
    "X_train, X_test, y_train, y_test = train_test_split(features, target, test_size=0.25, random_state=42)"
   ],
   "metadata": {
    "collapsed": false,
    "ExecuteTime": {
     "end_time": "2023-10-13T20:16:08.778286300Z",
     "start_time": "2023-10-13T20:16:08.716748Z"
    }
   },
   "id": "451a37bcc54bad58"
  },
  {
   "cell_type": "code",
   "execution_count": 15,
   "outputs": [],
   "source": [
    "def compute_rmsle(y_test: np.ndarray, y_pred: np.ndarray, precision: int = 2) -> float:\n",
    "    mse = mean_squared_error(y_test, y_pred)\n",
    "    mae = mean_absolute_error(y_test, y_pred)\n",
    "    rmsle = np.sqrt(mean_squared_log_error(y_test, y_pred))\n",
    "    return pd.DataFrame(data=[mse,mae,round(rmsle, precision)], index=[\"MSE\", \"MAE\", \"RMSE\"])"
   ],
   "metadata": {
    "collapsed": false,
    "ExecuteTime": {
     "end_time": "2023-10-13T20:16:08.779285100Z",
     "start_time": "2023-10-13T20:16:08.732312900Z"
    }
   },
   "id": "3e587bd56d0db994"
  },
  {
   "cell_type": "code",
   "execution_count": 16,
   "outputs": [
    {
     "data": {
      "text/plain": "RandomForestRegressor(n_estimators=5)",
      "text/html": "<style>#sk-container-id-1 {color: black;background-color: white;}#sk-container-id-1 pre{padding: 0;}#sk-container-id-1 div.sk-toggleable {background-color: white;}#sk-container-id-1 label.sk-toggleable__label {cursor: pointer;display: block;width: 100%;margin-bottom: 0;padding: 0.3em;box-sizing: border-box;text-align: center;}#sk-container-id-1 label.sk-toggleable__label-arrow:before {content: \"▸\";float: left;margin-right: 0.25em;color: #696969;}#sk-container-id-1 label.sk-toggleable__label-arrow:hover:before {color: black;}#sk-container-id-1 div.sk-estimator:hover label.sk-toggleable__label-arrow:before {color: black;}#sk-container-id-1 div.sk-toggleable__content {max-height: 0;max-width: 0;overflow: hidden;text-align: left;background-color: #f0f8ff;}#sk-container-id-1 div.sk-toggleable__content pre {margin: 0.2em;color: black;border-radius: 0.25em;background-color: #f0f8ff;}#sk-container-id-1 input.sk-toggleable__control:checked~div.sk-toggleable__content {max-height: 200px;max-width: 100%;overflow: auto;}#sk-container-id-1 input.sk-toggleable__control:checked~label.sk-toggleable__label-arrow:before {content: \"▾\";}#sk-container-id-1 div.sk-estimator input.sk-toggleable__control:checked~label.sk-toggleable__label {background-color: #d4ebff;}#sk-container-id-1 div.sk-label input.sk-toggleable__control:checked~label.sk-toggleable__label {background-color: #d4ebff;}#sk-container-id-1 input.sk-hidden--visually {border: 0;clip: rect(1px 1px 1px 1px);clip: rect(1px, 1px, 1px, 1px);height: 1px;margin: -1px;overflow: hidden;padding: 0;position: absolute;width: 1px;}#sk-container-id-1 div.sk-estimator {font-family: monospace;background-color: #f0f8ff;border: 1px dotted black;border-radius: 0.25em;box-sizing: border-box;margin-bottom: 0.5em;}#sk-container-id-1 div.sk-estimator:hover {background-color: #d4ebff;}#sk-container-id-1 div.sk-parallel-item::after {content: \"\";width: 100%;border-bottom: 1px solid gray;flex-grow: 1;}#sk-container-id-1 div.sk-label:hover label.sk-toggleable__label {background-color: #d4ebff;}#sk-container-id-1 div.sk-serial::before {content: \"\";position: absolute;border-left: 1px solid gray;box-sizing: border-box;top: 0;bottom: 0;left: 50%;z-index: 0;}#sk-container-id-1 div.sk-serial {display: flex;flex-direction: column;align-items: center;background-color: white;padding-right: 0.2em;padding-left: 0.2em;position: relative;}#sk-container-id-1 div.sk-item {position: relative;z-index: 1;}#sk-container-id-1 div.sk-parallel {display: flex;align-items: stretch;justify-content: center;background-color: white;position: relative;}#sk-container-id-1 div.sk-item::before, #sk-container-id-1 div.sk-parallel-item::before {content: \"\";position: absolute;border-left: 1px solid gray;box-sizing: border-box;top: 0;bottom: 0;left: 50%;z-index: -1;}#sk-container-id-1 div.sk-parallel-item {display: flex;flex-direction: column;z-index: 1;position: relative;background-color: white;}#sk-container-id-1 div.sk-parallel-item:first-child::after {align-self: flex-end;width: 50%;}#sk-container-id-1 div.sk-parallel-item:last-child::after {align-self: flex-start;width: 50%;}#sk-container-id-1 div.sk-parallel-item:only-child::after {width: 0;}#sk-container-id-1 div.sk-dashed-wrapped {border: 1px dashed gray;margin: 0 0.4em 0.5em 0.4em;box-sizing: border-box;padding-bottom: 0.4em;background-color: white;}#sk-container-id-1 div.sk-label label {font-family: monospace;font-weight: bold;display: inline-block;line-height: 1.2em;}#sk-container-id-1 div.sk-label-container {text-align: center;}#sk-container-id-1 div.sk-container {/* jupyter's `normalize.less` sets `[hidden] { display: none; }` but bootstrap.min.css set `[hidden] { display: none !important; }` so we also need the `!important` here to be able to override the default hidden behavior on the sphinx rendered scikit-learn.org. See: https://github.com/scikit-learn/scikit-learn/issues/21755 */display: inline-block !important;position: relative;}#sk-container-id-1 div.sk-text-repr-fallback {display: none;}</style><div id=\"sk-container-id-1\" class=\"sk-top-container\"><div class=\"sk-text-repr-fallback\"><pre>RandomForestRegressor(n_estimators=5)</pre><b>In a Jupyter environment, please rerun this cell to show the HTML representation or trust the notebook. <br />On GitHub, the HTML representation is unable to render, please try loading this page with nbviewer.org.</b></div><div class=\"sk-container\" hidden><div class=\"sk-item\"><div class=\"sk-estimator sk-toggleable\"><input class=\"sk-toggleable__control sk-hidden--visually\" id=\"sk-estimator-id-1\" type=\"checkbox\" checked><label for=\"sk-estimator-id-1\" class=\"sk-toggleable__label sk-toggleable__label-arrow\">RandomForestRegressor</label><div class=\"sk-toggleable__content\"><pre>RandomForestRegressor(n_estimators=5)</pre></div></div></div></div></div>"
     },
     "execution_count": 16,
     "metadata": {},
     "output_type": "execute_result"
    }
   ],
   "source": [
    "linear = LinearRegression()\n",
    "linear.fit(X_train, y_train)\n",
    "ridge = Ridge()\n",
    "ridge.fit(X_train, y_train)\n",
    "xgb = XGBRegressor()\n",
    "xgb.fit(X_train, y_train)\n",
    "rf = RandomForestRegressor(n_estimators=5)\n",
    "rf.fit(X_train, y_train.ravel())"
   ],
   "metadata": {
    "collapsed": false,
    "ExecuteTime": {
     "end_time": "2023-10-13T20:16:09.069867800Z",
     "start_time": "2023-10-13T20:16:08.748516700Z"
    }
   },
   "id": "741ed5c0fd33d24c"
  },
  {
   "cell_type": "code",
   "execution_count": 17,
   "outputs": [
    {
     "data": {
      "text/plain": "             0\nMSE   0.916676\nMAE   0.750714\nRMSE  0.080000",
      "text/html": "<div>\n<style scoped>\n    .dataframe tbody tr th:only-of-type {\n        vertical-align: middle;\n    }\n\n    .dataframe tbody tr th {\n        vertical-align: top;\n    }\n\n    .dataframe thead th {\n        text-align: right;\n    }\n</style>\n<table border=\"1\" class=\"dataframe\">\n  <thead>\n    <tr style=\"text-align: right;\">\n      <th></th>\n      <th>0</th>\n    </tr>\n  </thead>\n  <tbody>\n    <tr>\n      <th>MSE</th>\n      <td>0.916676</td>\n    </tr>\n    <tr>\n      <th>MAE</th>\n      <td>0.750714</td>\n    </tr>\n    <tr>\n      <th>RMSE</th>\n      <td>0.080000</td>\n    </tr>\n  </tbody>\n</table>\n</div>"
     },
     "execution_count": 17,
     "metadata": {},
     "output_type": "execute_result"
    }
   ],
   "source": [
    "ridge_evaluate = compute_rmsle(ridge.predict(X_test), y_test)\n",
    "ridge_evaluate"
   ],
   "metadata": {
    "collapsed": false,
    "ExecuteTime": {
     "end_time": "2023-10-13T20:16:09.094874Z",
     "start_time": "2023-10-13T20:16:09.071867100Z"
    }
   },
   "id": "9482fb1d43a566f2"
  },
  {
   "cell_type": "code",
   "execution_count": 18,
   "outputs": [
    {
     "data": {
      "text/plain": "             0\nMSE   0.916676\nMAE   0.750718\nRMSE  0.080000",
      "text/html": "<div>\n<style scoped>\n    .dataframe tbody tr th:only-of-type {\n        vertical-align: middle;\n    }\n\n    .dataframe tbody tr th {\n        vertical-align: top;\n    }\n\n    .dataframe thead th {\n        text-align: right;\n    }\n</style>\n<table border=\"1\" class=\"dataframe\">\n  <thead>\n    <tr style=\"text-align: right;\">\n      <th></th>\n      <th>0</th>\n    </tr>\n  </thead>\n  <tbody>\n    <tr>\n      <th>MSE</th>\n      <td>0.916676</td>\n    </tr>\n    <tr>\n      <th>MAE</th>\n      <td>0.750718</td>\n    </tr>\n    <tr>\n      <th>RMSE</th>\n      <td>0.080000</td>\n    </tr>\n  </tbody>\n</table>\n</div>"
     },
     "execution_count": 18,
     "metadata": {},
     "output_type": "execute_result"
    }
   ],
   "source": [
    "linear_evaluate = compute_rmsle(linear.predict(X_test), y_test)\n",
    "linear_evaluate"
   ],
   "metadata": {
    "collapsed": false,
    "ExecuteTime": {
     "end_time": "2023-10-13T20:16:09.162473200Z",
     "start_time": "2023-10-13T20:16:09.088522500Z"
    }
   },
   "id": "7fc6d95bf27eb9b8"
  },
  {
   "cell_type": "code",
   "execution_count": 19,
   "outputs": [
    {
     "data": {
      "text/plain": "             0\nMSE   0.477599\nMAE   0.499675\nRMSE  0.060000",
      "text/html": "<div>\n<style scoped>\n    .dataframe tbody tr th:only-of-type {\n        vertical-align: middle;\n    }\n\n    .dataframe tbody tr th {\n        vertical-align: top;\n    }\n\n    .dataframe thead th {\n        text-align: right;\n    }\n</style>\n<table border=\"1\" class=\"dataframe\">\n  <thead>\n    <tr style=\"text-align: right;\">\n      <th></th>\n      <th>0</th>\n    </tr>\n  </thead>\n  <tbody>\n    <tr>\n      <th>MSE</th>\n      <td>0.477599</td>\n    </tr>\n    <tr>\n      <th>MAE</th>\n      <td>0.499675</td>\n    </tr>\n    <tr>\n      <th>RMSE</th>\n      <td>0.060000</td>\n    </tr>\n  </tbody>\n</table>\n</div>"
     },
     "execution_count": 19,
     "metadata": {},
     "output_type": "execute_result"
    }
   ],
   "source": [
    "xgb_evaluate = compute_rmsle(xgb.predict(X_test), y_test)\n",
    "xgb_evaluate"
   ],
   "metadata": {
    "collapsed": false,
    "ExecuteTime": {
     "end_time": "2023-10-13T20:16:09.175478Z",
     "start_time": "2023-10-13T20:16:09.102968300Z"
    }
   },
   "id": "150fb3a05430bbf9"
  },
  {
   "cell_type": "code",
   "execution_count": 20,
   "outputs": [
    {
     "data": {
      "text/plain": "             0\nMSE   0.689543\nMAE   0.611906\nRMSE  0.070000",
      "text/html": "<div>\n<style scoped>\n    .dataframe tbody tr th:only-of-type {\n        vertical-align: middle;\n    }\n\n    .dataframe tbody tr th {\n        vertical-align: top;\n    }\n\n    .dataframe thead th {\n        text-align: right;\n    }\n</style>\n<table border=\"1\" class=\"dataframe\">\n  <thead>\n    <tr style=\"text-align: right;\">\n      <th></th>\n      <th>0</th>\n    </tr>\n  </thead>\n  <tbody>\n    <tr>\n      <th>MSE</th>\n      <td>0.689543</td>\n    </tr>\n    <tr>\n      <th>MAE</th>\n      <td>0.611906</td>\n    </tr>\n    <tr>\n      <th>RMSE</th>\n      <td>0.070000</td>\n    </tr>\n  </tbody>\n</table>\n</div>"
     },
     "execution_count": 20,
     "metadata": {},
     "output_type": "execute_result"
    }
   ],
   "source": [
    "rf_evaluate = compute_rmsle(rf.predict(X_test), y_test)\n",
    "rf_evaluate"
   ],
   "metadata": {
    "collapsed": false,
    "ExecuteTime": {
     "end_time": "2023-10-13T20:16:09.211584200Z",
     "start_time": "2023-10-13T20:16:09.118966800Z"
    }
   },
   "id": "5a2eb4659c188d07"
  },
  {
   "cell_type": "markdown",
   "source": [
    "IMPORVE MODEL WITH DATA EXTERNAL"
   ],
   "metadata": {
    "collapsed": false
   },
   "id": "40c9ed67119aa979"
  },
  {
   "cell_type": "code",
   "execution_count": 77,
   "outputs": [],
   "source": [
    "data_merged = pd.read_csv(\"data/data_merged.csv\").drop([\"Unnamed: 0\", \"DateOfDeparture\", \"Precipitationmm\", \"Events\", ], axis=1)"
   ],
   "metadata": {
    "collapsed": false,
    "ExecuteTime": {
     "end_time": "2023-10-13T21:19:27.206648500Z",
     "start_time": "2023-10-13T21:19:27.173546300Z"
    }
   },
   "id": "b6f1862e91c2b72a"
  },
  {
   "cell_type": "code",
   "execution_count": 79,
   "outputs": [],
   "source": [
    "from sklearn.impute import SimpleImputer\n",
    "imputer = SimpleImputer(missing_values=np.nan, strategy='mean')\n",
    "data_merged[[\"Max Gust SpeedKm/h\"]] = imputer.fit_transform(data_merged[[\"Max Gust SpeedKm/h\"]])"
   ],
   "metadata": {
    "collapsed": false,
    "ExecuteTime": {
     "end_time": "2023-10-13T21:19:40.458533900Z",
     "start_time": "2023-10-13T21:19:40.426113500Z"
    }
   },
   "id": "118b684d01a058ac"
  },
  {
   "cell_type": "code",
   "execution_count": 80,
   "outputs": [
    {
     "data": {
      "text/plain": "     Departure Arrival  WeeksToDeparture    log_PAX    std_wtd  DateDay  \\\n0          ORD     DFW         12.875000  12.331296   9.812647       19   \n1          ORD     PHX         11.772727  10.502073   8.970490       19   \n2          ORD     SFO         13.480000  12.160800   9.372477       19   \n3          ORD     ATL         11.173913  11.788080   8.819669       19   \n4          LAS     DEN         14.285714  10.775182   9.466734       10   \n...        ...     ...               ...        ...        ...      ...   \n8897       DTW     ATL          9.263158  10.427055   7.316967        2   \n8898       DFW     ORD         12.772727  12.201552  10.641034       25   \n8899       SFO     LAS         11.047619  10.508746   7.908705       19   \n8900       ORD     PHL          6.076923  10.174042   4.030334        3   \n8901       DTW     ATL          9.526316   9.202674   6.167733       26   \n\n      DateMonth  DateYear  Max TemperatureC  Mean TemperatureC  ...  \\\n0             6      2012                35                 31  ...   \n1             6      2012                35                 31  ...   \n2             6      2012                35                 31  ...   \n3             6      2012                35                 31  ...   \n4             9      2012                36                 32  ...   \n...         ...       ...               ...                ...  ...   \n8897         10      2011                17                 11  ...   \n8898          9      2012                35                 29  ...   \n8899          1      2012                11                  7  ...   \n8900          2      2013                -6                 -9  ...   \n8901         11      2011                18                 13  ...   \n\n      Mean Sea Level PressurehPa  Min Sea Level PressurehPa  Max VisibilityKm  \\\n0                           1012                       1009                16   \n1                           1012                       1009                16   \n2                           1012                       1009                16   \n3                           1012                       1009                16   \n4                           1009                       1005                16   \n...                          ...                        ...               ...   \n8897                        1020                       1017                16   \n8898                        1013                       1010                16   \n8899                        1021                       1017                16   \n8900                        1016                       1014                16   \n8901                        1015                       1011                16   \n\n      Mean VisibilityKm  Min VisibilitykM  Max Wind SpeedKm/h  \\\n0                    16                16                  37   \n1                    16                16                  37   \n2                    16                16                  37   \n3                    16                16                  37   \n4                    15                11                  32   \n...                 ...               ...                 ...   \n8897                 16                16                  35   \n8898                 16                16                  48   \n8899                 15                 8                  24   \n8900                  9                 2                  34   \n8901                 16                14                  37   \n\n      Mean Wind SpeedKm/h  Max Gust SpeedKm/h  CloudCover  WindDirDegrees  \n0                      25                56.0           1             208  \n1                      25                56.0           1             208  \n2                      25                56.0           1             208  \n3                      25                56.0           1             208  \n4                      18                50.0           5             187  \n...                   ...                 ...         ...             ...  \n8897                   19                50.0           4             327  \n8898                   30                60.0           4             187  \n8899                   10                32.0           7             125  \n8900                   14                42.0           7             268  \n8901                   19                47.0           8             170  \n\n[8902 rows x 28 columns]",
      "text/html": "<div>\n<style scoped>\n    .dataframe tbody tr th:only-of-type {\n        vertical-align: middle;\n    }\n\n    .dataframe tbody tr th {\n        vertical-align: top;\n    }\n\n    .dataframe thead th {\n        text-align: right;\n    }\n</style>\n<table border=\"1\" class=\"dataframe\">\n  <thead>\n    <tr style=\"text-align: right;\">\n      <th></th>\n      <th>Departure</th>\n      <th>Arrival</th>\n      <th>WeeksToDeparture</th>\n      <th>log_PAX</th>\n      <th>std_wtd</th>\n      <th>DateDay</th>\n      <th>DateMonth</th>\n      <th>DateYear</th>\n      <th>Max TemperatureC</th>\n      <th>Mean TemperatureC</th>\n      <th>...</th>\n      <th>Mean Sea Level PressurehPa</th>\n      <th>Min Sea Level PressurehPa</th>\n      <th>Max VisibilityKm</th>\n      <th>Mean VisibilityKm</th>\n      <th>Min VisibilitykM</th>\n      <th>Max Wind SpeedKm/h</th>\n      <th>Mean Wind SpeedKm/h</th>\n      <th>Max Gust SpeedKm/h</th>\n      <th>CloudCover</th>\n      <th>WindDirDegrees</th>\n    </tr>\n  </thead>\n  <tbody>\n    <tr>\n      <th>0</th>\n      <td>ORD</td>\n      <td>DFW</td>\n      <td>12.875000</td>\n      <td>12.331296</td>\n      <td>9.812647</td>\n      <td>19</td>\n      <td>6</td>\n      <td>2012</td>\n      <td>35</td>\n      <td>31</td>\n      <td>...</td>\n      <td>1012</td>\n      <td>1009</td>\n      <td>16</td>\n      <td>16</td>\n      <td>16</td>\n      <td>37</td>\n      <td>25</td>\n      <td>56.0</td>\n      <td>1</td>\n      <td>208</td>\n    </tr>\n    <tr>\n      <th>1</th>\n      <td>ORD</td>\n      <td>PHX</td>\n      <td>11.772727</td>\n      <td>10.502073</td>\n      <td>8.970490</td>\n      <td>19</td>\n      <td>6</td>\n      <td>2012</td>\n      <td>35</td>\n      <td>31</td>\n      <td>...</td>\n      <td>1012</td>\n      <td>1009</td>\n      <td>16</td>\n      <td>16</td>\n      <td>16</td>\n      <td>37</td>\n      <td>25</td>\n      <td>56.0</td>\n      <td>1</td>\n      <td>208</td>\n    </tr>\n    <tr>\n      <th>2</th>\n      <td>ORD</td>\n      <td>SFO</td>\n      <td>13.480000</td>\n      <td>12.160800</td>\n      <td>9.372477</td>\n      <td>19</td>\n      <td>6</td>\n      <td>2012</td>\n      <td>35</td>\n      <td>31</td>\n      <td>...</td>\n      <td>1012</td>\n      <td>1009</td>\n      <td>16</td>\n      <td>16</td>\n      <td>16</td>\n      <td>37</td>\n      <td>25</td>\n      <td>56.0</td>\n      <td>1</td>\n      <td>208</td>\n    </tr>\n    <tr>\n      <th>3</th>\n      <td>ORD</td>\n      <td>ATL</td>\n      <td>11.173913</td>\n      <td>11.788080</td>\n      <td>8.819669</td>\n      <td>19</td>\n      <td>6</td>\n      <td>2012</td>\n      <td>35</td>\n      <td>31</td>\n      <td>...</td>\n      <td>1012</td>\n      <td>1009</td>\n      <td>16</td>\n      <td>16</td>\n      <td>16</td>\n      <td>37</td>\n      <td>25</td>\n      <td>56.0</td>\n      <td>1</td>\n      <td>208</td>\n    </tr>\n    <tr>\n      <th>4</th>\n      <td>LAS</td>\n      <td>DEN</td>\n      <td>14.285714</td>\n      <td>10.775182</td>\n      <td>9.466734</td>\n      <td>10</td>\n      <td>9</td>\n      <td>2012</td>\n      <td>36</td>\n      <td>32</td>\n      <td>...</td>\n      <td>1009</td>\n      <td>1005</td>\n      <td>16</td>\n      <td>15</td>\n      <td>11</td>\n      <td>32</td>\n      <td>18</td>\n      <td>50.0</td>\n      <td>5</td>\n      <td>187</td>\n    </tr>\n    <tr>\n      <th>...</th>\n      <td>...</td>\n      <td>...</td>\n      <td>...</td>\n      <td>...</td>\n      <td>...</td>\n      <td>...</td>\n      <td>...</td>\n      <td>...</td>\n      <td>...</td>\n      <td>...</td>\n      <td>...</td>\n      <td>...</td>\n      <td>...</td>\n      <td>...</td>\n      <td>...</td>\n      <td>...</td>\n      <td>...</td>\n      <td>...</td>\n      <td>...</td>\n      <td>...</td>\n      <td>...</td>\n    </tr>\n    <tr>\n      <th>8897</th>\n      <td>DTW</td>\n      <td>ATL</td>\n      <td>9.263158</td>\n      <td>10.427055</td>\n      <td>7.316967</td>\n      <td>2</td>\n      <td>10</td>\n      <td>2011</td>\n      <td>17</td>\n      <td>11</td>\n      <td>...</td>\n      <td>1020</td>\n      <td>1017</td>\n      <td>16</td>\n      <td>16</td>\n      <td>16</td>\n      <td>35</td>\n      <td>19</td>\n      <td>50.0</td>\n      <td>4</td>\n      <td>327</td>\n    </tr>\n    <tr>\n      <th>8898</th>\n      <td>DFW</td>\n      <td>ORD</td>\n      <td>12.772727</td>\n      <td>12.201552</td>\n      <td>10.641034</td>\n      <td>25</td>\n      <td>9</td>\n      <td>2012</td>\n      <td>35</td>\n      <td>29</td>\n      <td>...</td>\n      <td>1013</td>\n      <td>1010</td>\n      <td>16</td>\n      <td>16</td>\n      <td>16</td>\n      <td>48</td>\n      <td>30</td>\n      <td>60.0</td>\n      <td>4</td>\n      <td>187</td>\n    </tr>\n    <tr>\n      <th>8899</th>\n      <td>SFO</td>\n      <td>LAS</td>\n      <td>11.047619</td>\n      <td>10.508746</td>\n      <td>7.908705</td>\n      <td>19</td>\n      <td>1</td>\n      <td>2012</td>\n      <td>11</td>\n      <td>7</td>\n      <td>...</td>\n      <td>1021</td>\n      <td>1017</td>\n      <td>16</td>\n      <td>15</td>\n      <td>8</td>\n      <td>24</td>\n      <td>10</td>\n      <td>32.0</td>\n      <td>7</td>\n      <td>125</td>\n    </tr>\n    <tr>\n      <th>8900</th>\n      <td>ORD</td>\n      <td>PHL</td>\n      <td>6.076923</td>\n      <td>10.174042</td>\n      <td>4.030334</td>\n      <td>3</td>\n      <td>2</td>\n      <td>2013</td>\n      <td>-6</td>\n      <td>-9</td>\n      <td>...</td>\n      <td>1016</td>\n      <td>1014</td>\n      <td>16</td>\n      <td>9</td>\n      <td>2</td>\n      <td>34</td>\n      <td>14</td>\n      <td>42.0</td>\n      <td>7</td>\n      <td>268</td>\n    </tr>\n    <tr>\n      <th>8901</th>\n      <td>DTW</td>\n      <td>ATL</td>\n      <td>9.526316</td>\n      <td>9.202674</td>\n      <td>6.167733</td>\n      <td>26</td>\n      <td>11</td>\n      <td>2011</td>\n      <td>18</td>\n      <td>13</td>\n      <td>...</td>\n      <td>1015</td>\n      <td>1011</td>\n      <td>16</td>\n      <td>16</td>\n      <td>14</td>\n      <td>37</td>\n      <td>19</td>\n      <td>47.0</td>\n      <td>8</td>\n      <td>170</td>\n    </tr>\n  </tbody>\n</table>\n<p>8902 rows × 28 columns</p>\n</div>"
     },
     "execution_count": 80,
     "metadata": {},
     "output_type": "execute_result"
    }
   ],
   "source": [
    "data_merged"
   ],
   "metadata": {
    "collapsed": false,
    "ExecuteTime": {
     "end_time": "2023-10-13T21:19:40.962500100Z",
     "start_time": "2023-10-13T21:19:40.946218200Z"
    }
   },
   "id": "729c03d0a238fa86"
  },
  {
   "cell_type": "code",
   "execution_count": 81,
   "outputs": [],
   "source": [
    "data_merged[[\"Departure\"]] = binary_encoder.fit_transform(data_merged[[\"Departure\"]])\n",
    "data_merged[[\"Arrival\"]] = binary_encoder.fit_transform(data_merged[[\"Arrival\"]])\n",
    "data_merged[[\"DateDay\"]] = binary_encoder.fit_transform(data_merged[[\"DateDay\"]])\n",
    "data_merged[[\"DateMonth\"]] = binary_encoder.fit_transform(data_merged[[\"DateMonth\"]])\n",
    "data_merged[[\"DateYear\"]] = binary_encoder.fit_transform(data_merged[[\"DateYear\"]])"
   ],
   "metadata": {
    "collapsed": false,
    "ExecuteTime": {
     "end_time": "2023-10-13T21:19:43.529435400Z",
     "start_time": "2023-10-13T21:19:43.498559100Z"
    }
   },
   "id": "efce8475411ff17b"
  },
  {
   "cell_type": "code",
   "execution_count": 82,
   "outputs": [
    {
     "data": {
      "text/plain": "      Departure  Arrival  WeeksToDeparture    log_PAX    std_wtd  DateDay  \\\n0          15.0      4.0         12.875000  12.331296   9.812647     18.0   \n1          15.0     17.0         11.772727  10.502073   8.970490     18.0   \n2          15.0     19.0         13.480000  12.160800   9.372477     18.0   \n3          15.0      0.0         11.173913  11.788080   8.819669     18.0   \n4           9.0      3.0         14.285714  10.775182   9.466734      9.0   \n...         ...      ...               ...        ...        ...      ...   \n8897        5.0      0.0          9.263158  10.427055   7.316967      1.0   \n8898        4.0     15.0         12.772727  12.201552  10.641034     24.0   \n8899       19.0      9.0         11.047619  10.508746   7.908705     18.0   \n8900       15.0     16.0          6.076923  10.174042   4.030334      2.0   \n8901        5.0      0.0          9.526316   9.202674   6.167733     25.0   \n\n      DateMonth  DateYear  Max TemperatureC  Mean TemperatureC  ...  \\\n0           5.0       1.0                35                 31  ...   \n1           5.0       1.0                35                 31  ...   \n2           5.0       1.0                35                 31  ...   \n3           5.0       1.0                35                 31  ...   \n4           8.0       1.0                36                 32  ...   \n...         ...       ...               ...                ...  ...   \n8897        9.0       0.0                17                 11  ...   \n8898        8.0       1.0                35                 29  ...   \n8899        0.0       1.0                11                  7  ...   \n8900        1.0       2.0                -6                 -9  ...   \n8901       10.0       0.0                18                 13  ...   \n\n      Mean Sea Level PressurehPa  Min Sea Level PressurehPa  Max VisibilityKm  \\\n0                           1012                       1009                16   \n1                           1012                       1009                16   \n2                           1012                       1009                16   \n3                           1012                       1009                16   \n4                           1009                       1005                16   \n...                          ...                        ...               ...   \n8897                        1020                       1017                16   \n8898                        1013                       1010                16   \n8899                        1021                       1017                16   \n8900                        1016                       1014                16   \n8901                        1015                       1011                16   \n\n      Mean VisibilityKm  Min VisibilitykM  Max Wind SpeedKm/h  \\\n0                    16                16                  37   \n1                    16                16                  37   \n2                    16                16                  37   \n3                    16                16                  37   \n4                    15                11                  32   \n...                 ...               ...                 ...   \n8897                 16                16                  35   \n8898                 16                16                  48   \n8899                 15                 8                  24   \n8900                  9                 2                  34   \n8901                 16                14                  37   \n\n      Mean Wind SpeedKm/h  Max Gust SpeedKm/h  CloudCover  WindDirDegrees  \n0                      25                56.0           1             208  \n1                      25                56.0           1             208  \n2                      25                56.0           1             208  \n3                      25                56.0           1             208  \n4                      18                50.0           5             187  \n...                   ...                 ...         ...             ...  \n8897                   19                50.0           4             327  \n8898                   30                60.0           4             187  \n8899                   10                32.0           7             125  \n8900                   14                42.0           7             268  \n8901                   19                47.0           8             170  \n\n[8902 rows x 28 columns]",
      "text/html": "<div>\n<style scoped>\n    .dataframe tbody tr th:only-of-type {\n        vertical-align: middle;\n    }\n\n    .dataframe tbody tr th {\n        vertical-align: top;\n    }\n\n    .dataframe thead th {\n        text-align: right;\n    }\n</style>\n<table border=\"1\" class=\"dataframe\">\n  <thead>\n    <tr style=\"text-align: right;\">\n      <th></th>\n      <th>Departure</th>\n      <th>Arrival</th>\n      <th>WeeksToDeparture</th>\n      <th>log_PAX</th>\n      <th>std_wtd</th>\n      <th>DateDay</th>\n      <th>DateMonth</th>\n      <th>DateYear</th>\n      <th>Max TemperatureC</th>\n      <th>Mean TemperatureC</th>\n      <th>...</th>\n      <th>Mean Sea Level PressurehPa</th>\n      <th>Min Sea Level PressurehPa</th>\n      <th>Max VisibilityKm</th>\n      <th>Mean VisibilityKm</th>\n      <th>Min VisibilitykM</th>\n      <th>Max Wind SpeedKm/h</th>\n      <th>Mean Wind SpeedKm/h</th>\n      <th>Max Gust SpeedKm/h</th>\n      <th>CloudCover</th>\n      <th>WindDirDegrees</th>\n    </tr>\n  </thead>\n  <tbody>\n    <tr>\n      <th>0</th>\n      <td>15.0</td>\n      <td>4.0</td>\n      <td>12.875000</td>\n      <td>12.331296</td>\n      <td>9.812647</td>\n      <td>18.0</td>\n      <td>5.0</td>\n      <td>1.0</td>\n      <td>35</td>\n      <td>31</td>\n      <td>...</td>\n      <td>1012</td>\n      <td>1009</td>\n      <td>16</td>\n      <td>16</td>\n      <td>16</td>\n      <td>37</td>\n      <td>25</td>\n      <td>56.0</td>\n      <td>1</td>\n      <td>208</td>\n    </tr>\n    <tr>\n      <th>1</th>\n      <td>15.0</td>\n      <td>17.0</td>\n      <td>11.772727</td>\n      <td>10.502073</td>\n      <td>8.970490</td>\n      <td>18.0</td>\n      <td>5.0</td>\n      <td>1.0</td>\n      <td>35</td>\n      <td>31</td>\n      <td>...</td>\n      <td>1012</td>\n      <td>1009</td>\n      <td>16</td>\n      <td>16</td>\n      <td>16</td>\n      <td>37</td>\n      <td>25</td>\n      <td>56.0</td>\n      <td>1</td>\n      <td>208</td>\n    </tr>\n    <tr>\n      <th>2</th>\n      <td>15.0</td>\n      <td>19.0</td>\n      <td>13.480000</td>\n      <td>12.160800</td>\n      <td>9.372477</td>\n      <td>18.0</td>\n      <td>5.0</td>\n      <td>1.0</td>\n      <td>35</td>\n      <td>31</td>\n      <td>...</td>\n      <td>1012</td>\n      <td>1009</td>\n      <td>16</td>\n      <td>16</td>\n      <td>16</td>\n      <td>37</td>\n      <td>25</td>\n      <td>56.0</td>\n      <td>1</td>\n      <td>208</td>\n    </tr>\n    <tr>\n      <th>3</th>\n      <td>15.0</td>\n      <td>0.0</td>\n      <td>11.173913</td>\n      <td>11.788080</td>\n      <td>8.819669</td>\n      <td>18.0</td>\n      <td>5.0</td>\n      <td>1.0</td>\n      <td>35</td>\n      <td>31</td>\n      <td>...</td>\n      <td>1012</td>\n      <td>1009</td>\n      <td>16</td>\n      <td>16</td>\n      <td>16</td>\n      <td>37</td>\n      <td>25</td>\n      <td>56.0</td>\n      <td>1</td>\n      <td>208</td>\n    </tr>\n    <tr>\n      <th>4</th>\n      <td>9.0</td>\n      <td>3.0</td>\n      <td>14.285714</td>\n      <td>10.775182</td>\n      <td>9.466734</td>\n      <td>9.0</td>\n      <td>8.0</td>\n      <td>1.0</td>\n      <td>36</td>\n      <td>32</td>\n      <td>...</td>\n      <td>1009</td>\n      <td>1005</td>\n      <td>16</td>\n      <td>15</td>\n      <td>11</td>\n      <td>32</td>\n      <td>18</td>\n      <td>50.0</td>\n      <td>5</td>\n      <td>187</td>\n    </tr>\n    <tr>\n      <th>...</th>\n      <td>...</td>\n      <td>...</td>\n      <td>...</td>\n      <td>...</td>\n      <td>...</td>\n      <td>...</td>\n      <td>...</td>\n      <td>...</td>\n      <td>...</td>\n      <td>...</td>\n      <td>...</td>\n      <td>...</td>\n      <td>...</td>\n      <td>...</td>\n      <td>...</td>\n      <td>...</td>\n      <td>...</td>\n      <td>...</td>\n      <td>...</td>\n      <td>...</td>\n      <td>...</td>\n    </tr>\n    <tr>\n      <th>8897</th>\n      <td>5.0</td>\n      <td>0.0</td>\n      <td>9.263158</td>\n      <td>10.427055</td>\n      <td>7.316967</td>\n      <td>1.0</td>\n      <td>9.0</td>\n      <td>0.0</td>\n      <td>17</td>\n      <td>11</td>\n      <td>...</td>\n      <td>1020</td>\n      <td>1017</td>\n      <td>16</td>\n      <td>16</td>\n      <td>16</td>\n      <td>35</td>\n      <td>19</td>\n      <td>50.0</td>\n      <td>4</td>\n      <td>327</td>\n    </tr>\n    <tr>\n      <th>8898</th>\n      <td>4.0</td>\n      <td>15.0</td>\n      <td>12.772727</td>\n      <td>12.201552</td>\n      <td>10.641034</td>\n      <td>24.0</td>\n      <td>8.0</td>\n      <td>1.0</td>\n      <td>35</td>\n      <td>29</td>\n      <td>...</td>\n      <td>1013</td>\n      <td>1010</td>\n      <td>16</td>\n      <td>16</td>\n      <td>16</td>\n      <td>48</td>\n      <td>30</td>\n      <td>60.0</td>\n      <td>4</td>\n      <td>187</td>\n    </tr>\n    <tr>\n      <th>8899</th>\n      <td>19.0</td>\n      <td>9.0</td>\n      <td>11.047619</td>\n      <td>10.508746</td>\n      <td>7.908705</td>\n      <td>18.0</td>\n      <td>0.0</td>\n      <td>1.0</td>\n      <td>11</td>\n      <td>7</td>\n      <td>...</td>\n      <td>1021</td>\n      <td>1017</td>\n      <td>16</td>\n      <td>15</td>\n      <td>8</td>\n      <td>24</td>\n      <td>10</td>\n      <td>32.0</td>\n      <td>7</td>\n      <td>125</td>\n    </tr>\n    <tr>\n      <th>8900</th>\n      <td>15.0</td>\n      <td>16.0</td>\n      <td>6.076923</td>\n      <td>10.174042</td>\n      <td>4.030334</td>\n      <td>2.0</td>\n      <td>1.0</td>\n      <td>2.0</td>\n      <td>-6</td>\n      <td>-9</td>\n      <td>...</td>\n      <td>1016</td>\n      <td>1014</td>\n      <td>16</td>\n      <td>9</td>\n      <td>2</td>\n      <td>34</td>\n      <td>14</td>\n      <td>42.0</td>\n      <td>7</td>\n      <td>268</td>\n    </tr>\n    <tr>\n      <th>8901</th>\n      <td>5.0</td>\n      <td>0.0</td>\n      <td>9.526316</td>\n      <td>9.202674</td>\n      <td>6.167733</td>\n      <td>25.0</td>\n      <td>10.0</td>\n      <td>0.0</td>\n      <td>18</td>\n      <td>13</td>\n      <td>...</td>\n      <td>1015</td>\n      <td>1011</td>\n      <td>16</td>\n      <td>16</td>\n      <td>14</td>\n      <td>37</td>\n      <td>19</td>\n      <td>47.0</td>\n      <td>8</td>\n      <td>170</td>\n    </tr>\n  </tbody>\n</table>\n<p>8902 rows × 28 columns</p>\n</div>"
     },
     "execution_count": 82,
     "metadata": {},
     "output_type": "execute_result"
    }
   ],
   "source": [
    "data_merged"
   ],
   "metadata": {
    "collapsed": false,
    "ExecuteTime": {
     "end_time": "2023-10-13T21:19:44.095607700Z",
     "start_time": "2023-10-13T21:19:44.059843Z"
    }
   },
   "id": "e82efc57c485c76c"
  },
  {
   "cell_type": "code",
   "execution_count": 83,
   "outputs": [
    {
     "data": {
      "text/plain": "Departure                     False\nArrival                       False\nWeeksToDeparture              False\nlog_PAX                       False\nstd_wtd                       False\nDateDay                       False\nDateMonth                     False\nDateYear                      False\nMax TemperatureC              False\nMean TemperatureC             False\nMin TemperatureC              False\nDew PointC                    False\nMeanDew PointC                False\nMin DewpointC                 False\nMax Humidity                  False\nMean Humidity                 False\nMin Humidity                  False\nMax Sea Level PressurehPa     False\nMean Sea Level PressurehPa    False\nMin Sea Level PressurehPa     False\nMax VisibilityKm              False\nMean VisibilityKm             False\nMin VisibilitykM              False\nMax Wind SpeedKm/h            False\nMean Wind SpeedKm/h           False\nMax Gust SpeedKm/h            False\nCloudCover                    False\nWindDirDegrees                False\ndtype: bool"
     },
     "execution_count": 83,
     "metadata": {},
     "output_type": "execute_result"
    }
   ],
   "source": [
    "data_merged.isnull().any()"
   ],
   "metadata": {
    "collapsed": false,
    "ExecuteTime": {
     "end_time": "2023-10-13T21:19:44.734061200Z",
     "start_time": "2023-10-13T21:19:44.708356600Z"
    }
   },
   "id": "faf3dfcf0c40f6e"
  },
  {
   "cell_type": "code",
   "execution_count": 84,
   "outputs": [],
   "source": [
    "core_features = data_merged.drop(\"log_PAX\",axis=1).to_numpy()\n",
    "new_target = data_merged[[\"log_PAX\"]].to_numpy()"
   ],
   "metadata": {
    "collapsed": false,
    "ExecuteTime": {
     "end_time": "2023-10-13T21:19:45.189836200Z",
     "start_time": "2023-10-13T21:19:45.173460100Z"
    }
   },
   "id": "7587cfad8386bd33"
  },
  {
   "cell_type": "code",
   "execution_count": 85,
   "outputs": [],
   "source": [
    "X_train_new, X_test_new, y_train_new, y_test_new = train_test_split(core_features, new_target, test_size=0.25, random_state=42)"
   ],
   "metadata": {
    "collapsed": false,
    "ExecuteTime": {
     "end_time": "2023-10-13T21:19:45.691358200Z",
     "start_time": "2023-10-13T21:19:45.669432700Z"
    }
   },
   "id": "ca056a7defdd68e5"
  },
  {
   "cell_type": "code",
   "execution_count": 86,
   "outputs": [],
   "source": [
    "nlinear = LinearRegression()\n",
    "nridge = Ridge()\n",
    "nxgb = XGBRegressor()\n",
    "nrf = RandomForestRegressor()"
   ],
   "metadata": {
    "collapsed": false,
    "ExecuteTime": {
     "end_time": "2023-10-13T21:19:46.079991Z",
     "start_time": "2023-10-13T21:19:46.067979700Z"
    }
   },
   "id": "feb708d8b7da8e31"
  },
  {
   "cell_type": "code",
   "execution_count": 87,
   "outputs": [
    {
     "name": "stderr",
     "output_type": "stream",
     "text": [
      "C:\\Users\\ADMIN\\AppData\\Local\\Temp\\ipykernel_28928\\2793896310.py:4: DataConversionWarning: A column-vector y was passed when a 1d array was expected. Please change the shape of y to (n_samples,), for example using ravel().\n",
      "  nrf.fit(X_train_new, y_train_new)\n"
     ]
    },
    {
     "data": {
      "text/plain": "RandomForestRegressor()",
      "text/html": "<style>#sk-container-id-4 {color: black;background-color: white;}#sk-container-id-4 pre{padding: 0;}#sk-container-id-4 div.sk-toggleable {background-color: white;}#sk-container-id-4 label.sk-toggleable__label {cursor: pointer;display: block;width: 100%;margin-bottom: 0;padding: 0.3em;box-sizing: border-box;text-align: center;}#sk-container-id-4 label.sk-toggleable__label-arrow:before {content: \"▸\";float: left;margin-right: 0.25em;color: #696969;}#sk-container-id-4 label.sk-toggleable__label-arrow:hover:before {color: black;}#sk-container-id-4 div.sk-estimator:hover label.sk-toggleable__label-arrow:before {color: black;}#sk-container-id-4 div.sk-toggleable__content {max-height: 0;max-width: 0;overflow: hidden;text-align: left;background-color: #f0f8ff;}#sk-container-id-4 div.sk-toggleable__content pre {margin: 0.2em;color: black;border-radius: 0.25em;background-color: #f0f8ff;}#sk-container-id-4 input.sk-toggleable__control:checked~div.sk-toggleable__content {max-height: 200px;max-width: 100%;overflow: auto;}#sk-container-id-4 input.sk-toggleable__control:checked~label.sk-toggleable__label-arrow:before {content: \"▾\";}#sk-container-id-4 div.sk-estimator input.sk-toggleable__control:checked~label.sk-toggleable__label {background-color: #d4ebff;}#sk-container-id-4 div.sk-label input.sk-toggleable__control:checked~label.sk-toggleable__label {background-color: #d4ebff;}#sk-container-id-4 input.sk-hidden--visually {border: 0;clip: rect(1px 1px 1px 1px);clip: rect(1px, 1px, 1px, 1px);height: 1px;margin: -1px;overflow: hidden;padding: 0;position: absolute;width: 1px;}#sk-container-id-4 div.sk-estimator {font-family: monospace;background-color: #f0f8ff;border: 1px dotted black;border-radius: 0.25em;box-sizing: border-box;margin-bottom: 0.5em;}#sk-container-id-4 div.sk-estimator:hover {background-color: #d4ebff;}#sk-container-id-4 div.sk-parallel-item::after {content: \"\";width: 100%;border-bottom: 1px solid gray;flex-grow: 1;}#sk-container-id-4 div.sk-label:hover label.sk-toggleable__label {background-color: #d4ebff;}#sk-container-id-4 div.sk-serial::before {content: \"\";position: absolute;border-left: 1px solid gray;box-sizing: border-box;top: 0;bottom: 0;left: 50%;z-index: 0;}#sk-container-id-4 div.sk-serial {display: flex;flex-direction: column;align-items: center;background-color: white;padding-right: 0.2em;padding-left: 0.2em;position: relative;}#sk-container-id-4 div.sk-item {position: relative;z-index: 1;}#sk-container-id-4 div.sk-parallel {display: flex;align-items: stretch;justify-content: center;background-color: white;position: relative;}#sk-container-id-4 div.sk-item::before, #sk-container-id-4 div.sk-parallel-item::before {content: \"\";position: absolute;border-left: 1px solid gray;box-sizing: border-box;top: 0;bottom: 0;left: 50%;z-index: -1;}#sk-container-id-4 div.sk-parallel-item {display: flex;flex-direction: column;z-index: 1;position: relative;background-color: white;}#sk-container-id-4 div.sk-parallel-item:first-child::after {align-self: flex-end;width: 50%;}#sk-container-id-4 div.sk-parallel-item:last-child::after {align-self: flex-start;width: 50%;}#sk-container-id-4 div.sk-parallel-item:only-child::after {width: 0;}#sk-container-id-4 div.sk-dashed-wrapped {border: 1px dashed gray;margin: 0 0.4em 0.5em 0.4em;box-sizing: border-box;padding-bottom: 0.4em;background-color: white;}#sk-container-id-4 div.sk-label label {font-family: monospace;font-weight: bold;display: inline-block;line-height: 1.2em;}#sk-container-id-4 div.sk-label-container {text-align: center;}#sk-container-id-4 div.sk-container {/* jupyter's `normalize.less` sets `[hidden] { display: none; }` but bootstrap.min.css set `[hidden] { display: none !important; }` so we also need the `!important` here to be able to override the default hidden behavior on the sphinx rendered scikit-learn.org. See: https://github.com/scikit-learn/scikit-learn/issues/21755 */display: inline-block !important;position: relative;}#sk-container-id-4 div.sk-text-repr-fallback {display: none;}</style><div id=\"sk-container-id-4\" class=\"sk-top-container\"><div class=\"sk-text-repr-fallback\"><pre>RandomForestRegressor()</pre><b>In a Jupyter environment, please rerun this cell to show the HTML representation or trust the notebook. <br />On GitHub, the HTML representation is unable to render, please try loading this page with nbviewer.org.</b></div><div class=\"sk-container\" hidden><div class=\"sk-item\"><div class=\"sk-estimator sk-toggleable\"><input class=\"sk-toggleable__control sk-hidden--visually\" id=\"sk-estimator-id-4\" type=\"checkbox\" checked><label for=\"sk-estimator-id-4\" class=\"sk-toggleable__label sk-toggleable__label-arrow\">RandomForestRegressor</label><div class=\"sk-toggleable__content\"><pre>RandomForestRegressor()</pre></div></div></div></div></div>"
     },
     "execution_count": 87,
     "metadata": {},
     "output_type": "execute_result"
    }
   ],
   "source": [
    "nlinear.fit(X_train_new, y_train_new)\n",
    "nridge.fit(X_train_new, y_train_new)\n",
    "nxgb.fit(X_train_new, y_train_new)\n",
    "nrf.fit(X_train_new, y_train_new)"
   ],
   "metadata": {
    "collapsed": false,
    "ExecuteTime": {
     "end_time": "2023-10-13T21:19:52.005747900Z",
     "start_time": "2023-10-13T21:19:46.523235500Z"
    }
   },
   "id": "5a068416d2d94e46"
  },
  {
   "cell_type": "code",
   "execution_count": 88,
   "outputs": [
    {
     "data": {
      "text/plain": "             0\nMSE   0.894907\nMAE   0.735938\nRMSE  0.080000",
      "text/html": "<div>\n<style scoped>\n    .dataframe tbody tr th:only-of-type {\n        vertical-align: middle;\n    }\n\n    .dataframe tbody tr th {\n        vertical-align: top;\n    }\n\n    .dataframe thead th {\n        text-align: right;\n    }\n</style>\n<table border=\"1\" class=\"dataframe\">\n  <thead>\n    <tr style=\"text-align: right;\">\n      <th></th>\n      <th>0</th>\n    </tr>\n  </thead>\n  <tbody>\n    <tr>\n      <th>MSE</th>\n      <td>0.894907</td>\n    </tr>\n    <tr>\n      <th>MAE</th>\n      <td>0.735938</td>\n    </tr>\n    <tr>\n      <th>RMSE</th>\n      <td>0.080000</td>\n    </tr>\n  </tbody>\n</table>\n</div>"
     },
     "execution_count": 88,
     "metadata": {},
     "output_type": "execute_result"
    }
   ],
   "source": [
    "compute_rmsle(nlinear.predict(X_test_new), y_test_new)"
   ],
   "metadata": {
    "collapsed": false,
    "ExecuteTime": {
     "end_time": "2023-10-13T21:19:52.040820Z",
     "start_time": "2023-10-13T21:19:52.005747900Z"
    }
   },
   "id": "2589e33a3a192e3f"
  },
  {
   "cell_type": "code",
   "execution_count": 89,
   "outputs": [
    {
     "data": {
      "text/plain": "             0\nMSE   0.894907\nMAE   0.735935\nRMSE  0.080000",
      "text/html": "<div>\n<style scoped>\n    .dataframe tbody tr th:only-of-type {\n        vertical-align: middle;\n    }\n\n    .dataframe tbody tr th {\n        vertical-align: top;\n    }\n\n    .dataframe thead th {\n        text-align: right;\n    }\n</style>\n<table border=\"1\" class=\"dataframe\">\n  <thead>\n    <tr style=\"text-align: right;\">\n      <th></th>\n      <th>0</th>\n    </tr>\n  </thead>\n  <tbody>\n    <tr>\n      <th>MSE</th>\n      <td>0.894907</td>\n    </tr>\n    <tr>\n      <th>MAE</th>\n      <td>0.735935</td>\n    </tr>\n    <tr>\n      <th>RMSE</th>\n      <td>0.080000</td>\n    </tr>\n  </tbody>\n</table>\n</div>"
     },
     "execution_count": 89,
     "metadata": {},
     "output_type": "execute_result"
    }
   ],
   "source": [
    "compute_rmsle(nridge.predict(X_test_new), y_test_new)"
   ],
   "metadata": {
    "collapsed": false,
    "ExecuteTime": {
     "end_time": "2023-10-13T21:19:52.078688Z",
     "start_time": "2023-10-13T21:19:52.021567900Z"
    }
   },
   "id": "c003589632bf9a0d"
  },
  {
   "cell_type": "code",
   "execution_count": 90,
   "outputs": [
    {
     "data": {
      "text/plain": "             0\nMSE   0.503900\nMAE   0.521144\nRMSE  0.060000",
      "text/html": "<div>\n<style scoped>\n    .dataframe tbody tr th:only-of-type {\n        vertical-align: middle;\n    }\n\n    .dataframe tbody tr th {\n        vertical-align: top;\n    }\n\n    .dataframe thead th {\n        text-align: right;\n    }\n</style>\n<table border=\"1\" class=\"dataframe\">\n  <thead>\n    <tr style=\"text-align: right;\">\n      <th></th>\n      <th>0</th>\n    </tr>\n  </thead>\n  <tbody>\n    <tr>\n      <th>MSE</th>\n      <td>0.503900</td>\n    </tr>\n    <tr>\n      <th>MAE</th>\n      <td>0.521144</td>\n    </tr>\n    <tr>\n      <th>RMSE</th>\n      <td>0.060000</td>\n    </tr>\n  </tbody>\n</table>\n</div>"
     },
     "execution_count": 90,
     "metadata": {},
     "output_type": "execute_result"
    }
   ],
   "source": [
    "compute_rmsle(nxgb.predict(X_test_new), y_test_new)"
   ],
   "metadata": {
    "collapsed": false,
    "ExecuteTime": {
     "end_time": "2023-10-13T21:19:52.164012900Z",
     "start_time": "2023-10-13T21:19:52.037818800Z"
    }
   },
   "id": "ca87ee5ee6d2da24"
  },
  {
   "cell_type": "code",
   "execution_count": 91,
   "outputs": [
    {
     "data": {
      "text/plain": "             0\nMSE   0.585781\nMAE   0.562916\nRMSE  0.070000",
      "text/html": "<div>\n<style scoped>\n    .dataframe tbody tr th:only-of-type {\n        vertical-align: middle;\n    }\n\n    .dataframe tbody tr th {\n        vertical-align: top;\n    }\n\n    .dataframe thead th {\n        text-align: right;\n    }\n</style>\n<table border=\"1\" class=\"dataframe\">\n  <thead>\n    <tr style=\"text-align: right;\">\n      <th></th>\n      <th>0</th>\n    </tr>\n  </thead>\n  <tbody>\n    <tr>\n      <th>MSE</th>\n      <td>0.585781</td>\n    </tr>\n    <tr>\n      <th>MAE</th>\n      <td>0.562916</td>\n    </tr>\n    <tr>\n      <th>RMSE</th>\n      <td>0.070000</td>\n    </tr>\n  </tbody>\n</table>\n</div>"
     },
     "execution_count": 91,
     "metadata": {},
     "output_type": "execute_result"
    }
   ],
   "source": [
    "compute_rmsle(nrf.predict(X_test_new), y_test_new)"
   ],
   "metadata": {
    "collapsed": false,
    "ExecuteTime": {
     "end_time": "2023-10-13T21:19:52.166018100Z",
     "start_time": "2023-10-13T21:19:52.065820500Z"
    }
   },
   "id": "b9d2a4dccf801a06"
  },
  {
   "cell_type": "code",
   "execution_count": null,
   "outputs": [],
   "source": [],
   "metadata": {
    "collapsed": false
   },
   "id": "358189bbb8a6228d"
  }
 ],
 "metadata": {
  "kernelspec": {
   "display_name": "Python 3",
   "language": "python",
   "name": "python3"
  },
  "language_info": {
   "codemirror_mode": {
    "name": "ipython",
    "version": 2
   },
   "file_extension": ".py",
   "mimetype": "text/x-python",
   "name": "python",
   "nbconvert_exporter": "python",
   "pygments_lexer": "ipython2",
   "version": "2.7.6"
  }
 },
 "nbformat": 4,
 "nbformat_minor": 5
}
